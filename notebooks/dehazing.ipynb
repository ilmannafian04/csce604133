{
 "cells": [
  {
   "cell_type": "markdown",
   "metadata": {},
   "source": [
    "# Dehazing"
   ]
  },
  {
   "cell_type": "code",
   "execution_count": 1,
   "metadata": {},
   "outputs": [],
   "source": [
    "import os\n",
    "from pathlib import Path\n",
    "\n",
    "SUB = \"dehazing\"\n",
    "BASE_DIR = Path(os.path.abspath(\"\")).resolve(strict=True).parent\n",
    "OUT = os.path.join(BASE_DIR, \"out\", SUB)\n",
    "STATIC = os.path.join(BASE_DIR, \"static\", SUB)"
   ]
  },
  {
   "cell_type": "code",
   "execution_count": 2,
   "metadata": {},
   "outputs": [],
   "source": [
    "import cv2\n",
    "import matplotlib.pyplot as plt\n",
    "\n",
    "import external.dark_channel_prior as dcp\n",
    "\n",
    "# %matplotlib widget"
   ]
  },
  {
   "cell_type": "code",
   "execution_count": 3,
   "metadata": {},
   "outputs": [],
   "source": [
    "def help_fig(col, row, titles, images, dpi=100.0):\n",
    "    fig, axs = plt.subplots(col, row, dpi=dpi)\n",
    "    if col > 1 or row > 1:\n",
    "        for i, ax in enumerate(axs.flatten()):\n",
    "            ax.set_title(titles[i])\n",
    "            ax.imshow(images[i], cmap=\"gray\")\n",
    "            ax.set_axis_off()\n",
    "    else:\n",
    "        axs.set_title(titles[0])\n",
    "        axs.imshow(images[0], cmap=\"gray\")\n",
    "        axs.set_axis_off()\n",
    "    fig.tight_layout()\n",
    "    plt.show()"
   ]
  },
  {
   "cell_type": "markdown",
   "metadata": {},
   "source": [
    "## Dark Channel Prior"
   ]
  },
  {
   "cell_type": "code",
   "execution_count": 4,
   "metadata": {},
   "outputs": [],
   "source": [
    "image = cv2.imread(os.path.join(STATIC, \"hazy\", \"30_outdoor_hazy.jpg\"))\n",
    "image_i = image.astype('float64') / 255\n",
    "image_dark = dcp.DarkChannel(image_i, 15)\n",
    "image_a = dcp.AtmLight(image_i, image_dark)\n",
    "image_te = dcp.TransmissionEstimate(image_i, image_a, 15)\n",
    "image_t = dcp.TransmissionRefine(image, image_te)\n",
    "image_j = dcp.Recover(image_i, image_t, image_a, 0.1)"
   ]
  },
  {
   "cell_type": "code",
   "execution_count": 5,
   "metadata": {},
   "outputs": [
    {
     "data": {
      "application/vnd.jupyter.widget-view+json": {
       "model_id": "54970c897d664e12b3c448a95dba109d",
       "version_major": 2,
       "version_minor": 0
      },
      "text/plain": [
       "Canvas(toolbar=Toolbar(toolitems=[('Home', 'Reset original view', 'home', 'home'), ('Back', 'Back to previous …"
      ]
     },
     "metadata": {},
     "output_type": "display_data"
    },
    {
     "name": "stderr",
     "output_type": "stream",
     "text": [
      "Clipping input data to the valid range for imshow with RGB data ([0..1] for floats or [0..255] for integers).\n"
     ]
    }
   ],
   "source": [
    "help_fig(2, 2, [\"Dark\", \"T\", \"I\", \"J\"], [image_dark, image_t, image_i, image_j])"
   ]
  }
 ],
 "metadata": {
  "interpreter": {
   "hash": "d4d1e4263499bec80672ea0156c357c1ee493ec2b1c70f0acce89fc37c4a6abe"
  },
  "kernelspec": {
   "display_name": "Python 3.9.6 64-bit ('base': conda)",
   "language": "python",
   "name": "python3"
  },
  "language_info": {
   "codemirror_mode": {
    "name": "ipython",
    "version": 3
   },
   "file_extension": ".py",
   "mimetype": "text/x-python",
   "name": "python",
   "nbconvert_exporter": "python",
   "pygments_lexer": "ipython3",
   "version": "3.9.6"
  },
  "orig_nbformat": 4
 },
 "nbformat": 4,
 "nbformat_minor": 2
}
