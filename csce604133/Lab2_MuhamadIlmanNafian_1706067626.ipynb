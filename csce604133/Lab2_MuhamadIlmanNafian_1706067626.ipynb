{
 "cells": [
  {
   "cell_type": "markdown",
   "id": "dfac2a63-46c4-4b30-be54-3a0da27d401a",
   "metadata": {},
   "source": [
    "# Lab 2"
   ]
  },
  {
   "cell_type": "markdown",
   "id": "564355f9-42c9-4cda-b5d1-fbb2ec5b5f98",
   "metadata": {},
   "source": [
    "Ganti constant `STATIC` menjadi path ke gambar-gambar yang akan digunakan dan `OUT` menjadi path ke output directory. Contoh jika gambar ada di directory yang sama dengan script ini, maka value nya menjadi `\".\"`. Library yang dibutuhkan untuk menjalankan script ini adalah sebagai berikut: `scikit-image`, `matplotlib`, `numpy`, `opencv`, dan `ipympl`. Cara menjalankan scriptnya sama seperti menjalankan notebook biasa."
   ]
  },
  {
   "cell_type": "code",
   "execution_count": 1,
   "id": "8da4d21c-23d0-4db9-b754-04af167e0bc4",
   "metadata": {},
   "outputs": [],
   "source": [
    "import os\n",
    "from pathlib import Path\n",
    "\n",
    "SUB = \"lab2\"\n",
    "BASE_DIR = Path(os.path.abspath(\"\")).resolve(strict=True).parent\n",
    "OUT = os.path.join(BASE_DIR, \"out\", SUB)\n",
    "STATIC = os.path.join(BASE_DIR, \"static\", SUB)"
   ]
  },
  {
   "cell_type": "code",
   "execution_count": 2,
   "id": "4227ee53-dec9-41cc-bb59-1628b49ebccb",
   "metadata": {},
   "outputs": [],
   "source": [
    "import cv2\n",
    "import matplotlib.pyplot as plt\n",
    "import numpy as np\n",
    "\n",
    "from skimage import color, filters, io, morphology, util\n",
    "\n",
    "%matplotlib widget"
   ]
  },
  {
   "cell_type": "markdown",
   "id": "7239107e-7082-4f8e-9947-75532051d04d",
   "metadata": {},
   "source": [
    "## COVID-19"
   ]
  },
  {
   "cell_type": "code",
   "execution_count": 3,
   "id": "d9fd4045-d916-4353-8e39-879fa9644558",
   "metadata": {},
   "outputs": [],
   "source": [
    "covid = io.imread(os.path.join(STATIC, \"virus.jpg\"))\n",
    "covid_r = covid[:, :, 0]\n",
    "covid_g = covid[:, :, 1]\n",
    "covid_b = covid[:, :, 2]"
   ]
  },
  {
   "cell_type": "code",
   "execution_count": 4,
   "id": "4669c9da-62a4-443b-8e8a-26e1fa55437c",
   "metadata": {},
   "outputs": [
    {
     "data": {
      "application/vnd.jupyter.widget-view+json": {
       "model_id": "760e7873a3324c459876c911d6884568",
       "version_major": 2,
       "version_minor": 0
      },
      "text/plain": [
       "Canvas(toolbar=Toolbar(toolitems=[('Home', 'Reset original view', 'home', 'home'), ('Back', 'Back to previous …"
      ]
     },
     "metadata": {},
     "output_type": "display_data"
    }
   ],
   "source": [
    "fig, ((ax0, ax1), (ax2, ax3)) = plt.subplots(2, 2)\n",
    "ax0.imshow(covid)\n",
    "ax0.set_axis_off()\n",
    "ax0.set_title(\"Original\")\n",
    "ax1.imshow(covid_r, cmap=\"gray\")\n",
    "ax1.set_axis_off()\n",
    "ax1.set_title(\"Red\")\n",
    "ax2.imshow(covid_g, cmap=\"gray\")\n",
    "ax2.set_axis_off()\n",
    "ax2.set_title(\"Green\")\n",
    "ax3.imshow(covid_b, cmap=\"gray\")\n",
    "ax3.set_axis_off()\n",
    "ax3.set_title(\"Blue\")\n",
    "fig.tight_layout()\n",
    "plt.show()"
   ]
  },
  {
   "cell_type": "code",
   "execution_count": 5,
   "id": "fe59b3b6-782f-4e88-ab4b-54c00fd3d707",
   "metadata": {},
   "outputs": [],
   "source": [
    "covid_c = 1 - util.img_as_float(covid_r)\n",
    "covid_m = 1 - util.img_as_float(covid_g)\n",
    "covid_y = 1 - util.img_as_float(covid_b)\n",
    "covid_cmy = np.zeros(covid.shape)\n",
    "covid_cmy[:, :, 0] = covid_c\n",
    "covid_cmy[:, :, 1] = covid_m\n",
    "covid_cmy[:, :, 2] = covid_y"
   ]
  },
  {
   "cell_type": "code",
   "execution_count": 6,
   "id": "318c5fec-650a-46e4-8533-9813cf9ae8c8",
   "metadata": {},
   "outputs": [
    {
     "data": {
      "application/vnd.jupyter.widget-view+json": {
       "model_id": "b228590d540e4631a1a5965fd04f79f1",
       "version_major": 2,
       "version_minor": 0
      },
      "text/plain": [
       "Canvas(toolbar=Toolbar(toolitems=[('Home', 'Reset original view', 'home', 'home'), ('Back', 'Back to previous …"
      ]
     },
     "metadata": {},
     "output_type": "display_data"
    }
   ],
   "source": [
    "fig, ((ax0, ax1), (ax2, ax3)) = plt.subplots(2, 2)\n",
    "ax0.imshow(covid_cmy)\n",
    "ax0.set_title(\"CMY\")\n",
    "ax0.set_axis_off()\n",
    "ax1.imshow(covid_c, cmap=\"gray\")\n",
    "ax1.set_title(\"Cyan\")\n",
    "ax1.set_axis_off()\n",
    "ax2.imshow(covid_m, cmap=\"gray\")\n",
    "ax2.set_title(\"Magenta\")\n",
    "ax2.set_axis_off()\n",
    "ax3.imshow(covid_y, cmap=\"gray\")\n",
    "ax3.set_title(\"Yellow\")\n",
    "ax3.set_axis_off()\n",
    "fig.tight_layout()\n",
    "plt.show()"
   ]
  },
  {
   "cell_type": "markdown",
   "id": "c321a53e-9d87-4f0a-a343-fa08e5ae13d4",
   "metadata": {},
   "source": [
    "### Smoothing 4 Kernel"
   ]
  },
  {
   "cell_type": "code",
   "execution_count": 7,
   "id": "3c1df6ed-cd62-4d9f-97db-696fd967f98e",
   "metadata": {},
   "outputs": [
    {
     "name": "stderr",
     "output_type": "stream",
     "text": [
      "/opt/conda/lib/python3.9/site-packages/IPython/core/interactiveshell.py:3441: UserWarning: Possible precision loss converting image of type float64 to uint8 as required by rank filters. Convert manually using skimage.util.img_as_ubyte to silence this warning.\n",
      "  exec(code_obj, self.user_global_ns, self.user_ns)\n"
     ]
    }
   ],
   "source": [
    "covid_c_mean_4 = filters.rank.mean(covid_c, selem=morphology.square(4))\n",
    "covid_m_mean_4 = filters.rank.mean(covid_m, selem=morphology.square(4))\n",
    "covid_y_mean_4 = filters.rank.mean(covid_y, selem=morphology.square(4))\n",
    "covid_cmy_mean_4 = util.img_as_ubyte(np.zeros(covid.shape))\n",
    "covid_cmy_mean_4[:, :, 0] = covid_c_mean_4\n",
    "covid_cmy_mean_4[:, :, 1] = covid_m_mean_4\n",
    "covid_cmy_mean_4[:, :, 2] = covid_y_mean_4"
   ]
  },
  {
   "cell_type": "code",
   "execution_count": 8,
   "id": "20d27aa8-c67f-4441-994d-f1fb85785d9d",
   "metadata": {},
   "outputs": [
    {
     "data": {
      "application/vnd.jupyter.widget-view+json": {
       "model_id": "7e1fe4402a3c4d7290c1dace3e143794",
       "version_major": 2,
       "version_minor": 0
      },
      "text/plain": [
       "Canvas(toolbar=Toolbar(toolitems=[('Home', 'Reset original view', 'home', 'home'), ('Back', 'Back to previous …"
      ]
     },
     "metadata": {},
     "output_type": "display_data"
    }
   ],
   "source": [
    "fig, ((ax0, ax1), (ax2, ax3)) = plt.subplots(2, 2)\n",
    "ax0.imshow(covid_cmy_mean_4)\n",
    "ax0.set_title(\"CMY\")\n",
    "ax0.set_axis_off()\n",
    "ax1.imshow(covid_c_mean_4, cmap=\"gray\")\n",
    "ax1.set_title(\"Cyan\")\n",
    "ax1.set_axis_off()\n",
    "ax2.imshow(covid_m_mean_4, cmap=\"gray\")\n",
    "ax2.set_title(\"Magenta\")\n",
    "ax2.set_axis_off()\n",
    "ax3.imshow(covid_y_mean_4, cmap=\"gray\")\n",
    "ax3.set_title(\"Yellow\")\n",
    "ax3.set_axis_off()\n",
    "fig.tight_layout()\n",
    "plt.show()"
   ]
  },
  {
   "cell_type": "markdown",
   "id": "edfdac77-69aa-42e2-8d16-8c7e35765aaa",
   "metadata": {},
   "source": [
    "### Smoothing 9 Kernel"
   ]
  },
  {
   "cell_type": "code",
   "execution_count": 9,
   "id": "c862871d-b013-4e6e-aee0-65c43ebaba35",
   "metadata": {},
   "outputs": [],
   "source": [
    "covid_c_mean_9 = filters.rank.mean(covid_c, selem=morphology.square(9))\n",
    "covid_m_mean_9 = filters.rank.mean(covid_m, selem=morphology.square(9))\n",
    "covid_y_mean_9 = filters.rank.mean(covid_y, selem=morphology.square(9))\n",
    "covid_cmy_mean_9 = util.img_as_ubyte(np.zeros(covid.shape))\n",
    "covid_cmy_mean_9[:, :, 0] = covid_c_mean_9\n",
    "covid_cmy_mean_9[:, :, 1] = covid_m_mean_9\n",
    "covid_cmy_mean_9[:, :, 2] = covid_y_mean_9"
   ]
  },
  {
   "cell_type": "code",
   "execution_count": 10,
   "id": "4ae7372c-a87a-4f40-a02d-3d5f3f23a01f",
   "metadata": {},
   "outputs": [
    {
     "data": {
      "application/vnd.jupyter.widget-view+json": {
       "model_id": "a2228ee658d546de913f088c6e5f3cf3",
       "version_major": 2,
       "version_minor": 0
      },
      "text/plain": [
       "Canvas(toolbar=Toolbar(toolitems=[('Home', 'Reset original view', 'home', 'home'), ('Back', 'Back to previous …"
      ]
     },
     "metadata": {},
     "output_type": "display_data"
    }
   ],
   "source": [
    "fig, ((ax0, ax1), (ax2, ax3)) = plt.subplots(2, 2)\n",
    "ax0.imshow(covid_cmy_mean_9)\n",
    "ax0.set_title(\"CMY\")\n",
    "ax0.set_axis_off()\n",
    "ax1.imshow(covid_c_mean_9, cmap=\"gray\")\n",
    "ax1.set_title(\"Cyan\")\n",
    "ax1.set_axis_off()\n",
    "ax2.imshow(covid_m_mean_9, cmap=\"gray\")\n",
    "ax2.set_title(\"Magenta\")\n",
    "ax2.set_axis_off()\n",
    "ax3.imshow(covid_y_mean_9, cmap=\"gray\")\n",
    "ax3.set_title(\"Yellow\")\n",
    "ax3.set_axis_off()\n",
    "fig.tight_layout()\n",
    "plt.show()"
   ]
  },
  {
   "cell_type": "markdown",
   "id": "d67465af-94f6-4928-9388-c7f3b10476a7",
   "metadata": {},
   "source": [
    "### Perbandingan"
   ]
  },
  {
   "cell_type": "code",
   "execution_count": 11,
   "id": "eb44b167-afee-42ad-a7e6-4484d00fabd4",
   "metadata": {},
   "outputs": [],
   "source": [
    "covid_r_mean_4 = 1 - util.img_as_float(covid_c_mean_4)\n",
    "covid_g_mean_4 = 1 - util.img_as_float(covid_m_mean_4)\n",
    "covid_b_mean_4 = 1 - util.img_as_float(covid_y_mean_4)\n",
    "covid_rgb_mean_4 = np.zeros(covid.shape)\n",
    "covid_rgb_mean_4[:, :, 0] = covid_r_mean_4\n",
    "covid_rgb_mean_4[:, :, 1] = covid_g_mean_4\n",
    "covid_rgb_mean_4[:, :, 2] = covid_b_mean_4"
   ]
  },
  {
   "cell_type": "code",
   "execution_count": 12,
   "id": "df681aef-b1c6-409c-bafd-d4dd3c0049be",
   "metadata": {},
   "outputs": [],
   "source": [
    "covid_r_mean_9 = 1 - util.img_as_float(covid_c_mean_9)\n",
    "covid_g_mean_9 = 1 - util.img_as_float(covid_m_mean_9)\n",
    "covid_b_mean_9 = 1 - util.img_as_float(covid_y_mean_9)\n",
    "covid_rgb_mean_9 = np.zeros(covid.shape)\n",
    "covid_rgb_mean_9[:, :, 0] = covid_r_mean_9\n",
    "covid_rgb_mean_9[:, :, 1] = covid_g_mean_9\n",
    "covid_rgb_mean_9[:, :, 2] = covid_b_mean_9"
   ]
  },
  {
   "cell_type": "code",
   "execution_count": 13,
   "id": "76b67b52-7668-4090-95c9-ce26648508aa",
   "metadata": {},
   "outputs": [
    {
     "data": {
      "application/vnd.jupyter.widget-view+json": {
       "model_id": "b4e37e303020485180136decaa2b306e",
       "version_major": 2,
       "version_minor": 0
      },
      "text/plain": [
       "Canvas(toolbar=Toolbar(toolitems=[('Home', 'Reset original view', 'home', 'home'), ('Back', 'Back to previous …"
      ]
     },
     "metadata": {},
     "output_type": "display_data"
    }
   ],
   "source": [
    "fig, (ax0, ax1, ax2) = plt.subplots(1, 3, figsize=(10, 3), dpi=125)\n",
    "ax0.imshow(covid_cmy)\n",
    "ax0.set_title(\"Original\")\n",
    "ax0.set_axis_off()\n",
    "ax1.imshow(covid_cmy_mean_4)\n",
    "ax1.set_title(\"Mean Filtered k = 4\")\n",
    "ax1.set_axis_off()\n",
    "ax2.imshow(covid_cmy_mean_9)\n",
    "ax2.set_title(\"Mean Filtered k = 9\")\n",
    "ax2.set_axis_off()\n",
    "fig.tight_layout()\n",
    "plt.show()"
   ]
  },
  {
   "cell_type": "markdown",
   "id": "9b29e1ff-fcc3-4240-ad9f-c808e1b8de31",
   "metadata": {},
   "source": [
    "Kita bisa lihat bahwa hasil smoothing nya terlihat jelas, terutama untuk kernel berukuran 9."
   ]
  },
  {
   "cell_type": "markdown",
   "id": "450a9690-911d-4433-9a66-54099a359260",
   "metadata": {},
   "source": [
    "### K-Means Clustering"
   ]
  },
  {
   "cell_type": "code",
   "execution_count": 14,
   "id": "69e71599-96fc-4dad-be8e-9407b5bb36e5",
   "metadata": {},
   "outputs": [],
   "source": [
    "covid_cv2 = cv2.imread(os.path.join(STATIC, \"virus.jpg\"))\n",
    "covid_cv2 = cv2.cvtColor(covid_cv2, cv2.COLOR_BGR2RGB)"
   ]
  },
  {
   "cell_type": "code",
   "execution_count": 15,
   "id": "ce5d433d-5675-473f-bc29-0c1fc44c0a73",
   "metadata": {},
   "outputs": [
    {
     "data": {
      "application/vnd.jupyter.widget-view+json": {
       "model_id": "d89290ecf5b94b018d18e2b666f0e661",
       "version_major": 2,
       "version_minor": 0
      },
      "text/plain": [
       "Canvas(toolbar=Toolbar(toolitems=[('Home', 'Reset original view', 'home', 'home'), ('Back', 'Back to previous …"
      ]
     },
     "metadata": {},
     "output_type": "display_data"
    }
   ],
   "source": [
    "fig, ax0 = plt.subplots()\n",
    "ax0.imshow(covid_cv2)\n",
    "ax0.set_axis_off()\n",
    "fig.tight_layout()\n",
    "plt.show()"
   ]
  },
  {
   "cell_type": "code",
   "execution_count": 16,
   "id": "f33b8426-efe1-46dc-a87f-a2410aa41b08",
   "metadata": {},
   "outputs": [],
   "source": [
    "CRITERIA = (cv2.TERM_CRITERIA_EPS + cv2.TERM_CRITERIA_MAX_ITER, 100, 0.2)\n",
    "\n",
    "covid_cv2_pixels = covid_cv2.reshape((-1, 3))\n",
    "covid_cv2_pixels = np.float32(covid_cv2_pixels)"
   ]
  },
  {
   "cell_type": "markdown",
   "id": "b8890433-b82c-4c8b-b9a0-2d769ba88173",
   "metadata": {},
   "source": [
    "#### 4 Kernel"
   ]
  },
  {
   "cell_type": "code",
   "execution_count": 17,
   "id": "10cbe0ad-9162-4651-a353-c138cbde8186",
   "metadata": {},
   "outputs": [],
   "source": [
    "K = 4\n",
    "\n",
    "_, labels_4, (centers_4) = cv2.kmeans(covid_cv2_pixels, K, None, CRITERIA, 10, cv2.KMEANS_RANDOM_CENTERS)\n",
    "centers_4 = np.uint8(centers_4)\n",
    "labels_4 = labels_4.flatten()\n",
    "\n",
    "covid_segmented_4 = centers_4[labels_4.flatten()]\n",
    "covid_segmented_4 = covid_segmented_4.reshape(covid_cv2.shape)"
   ]
  },
  {
   "cell_type": "code",
   "execution_count": 18,
   "id": "7f634950-aa2c-4ed7-9ddb-a31dd9c236f7",
   "metadata": {},
   "outputs": [
    {
     "data": {
      "application/vnd.jupyter.widget-view+json": {
       "model_id": "5201e9fc50584d27a650e65d2b3b12f6",
       "version_major": 2,
       "version_minor": 0
      },
      "text/plain": [
       "Canvas(toolbar=Toolbar(toolitems=[('Home', 'Reset original view', 'home', 'home'), ('Back', 'Back to previous …"
      ]
     },
     "metadata": {},
     "output_type": "display_data"
    }
   ],
   "source": [
    "fig, (ax0, ax1) = plt.subplots(1, 2, figsize=(10, 4))\n",
    "ax0.imshow(covid_cv2)\n",
    "ax0.set_title(\"Original\")\n",
    "ax0.set_axis_off()\n",
    "ax1.imshow(covid_segmented_4)\n",
    "ax1.set_title(\"Segmented k = 4\")\n",
    "ax1.set_axis_off()\n",
    "fig.tight_layout()\n",
    "plt.show()"
   ]
  },
  {
   "cell_type": "markdown",
   "id": "b76ac872-2bb9-46e9-8a73-87719d150d83",
   "metadata": {},
   "source": [
    "#### 9 Kernel"
   ]
  },
  {
   "cell_type": "code",
   "execution_count": 19,
   "id": "02060b79-6748-43d7-9245-39dae8f67c87",
   "metadata": {},
   "outputs": [],
   "source": [
    "K = 9\n",
    "\n",
    "_, labels_9, (centers_9) = cv2.kmeans(covid_cv2_pixels, K, None, CRITERIA, 10, cv2.KMEANS_RANDOM_CENTERS)\n",
    "centers_9 = np.uint8(centers_9)\n",
    "labels_9 = labels_9.flatten()\n",
    "\n",
    "covid_segmented_9 = centers_9[labels_9.flatten()]\n",
    "covid_segmented_9 = covid_segmented_9.reshape(covid_cv2.shape)"
   ]
  },
  {
   "cell_type": "code",
   "execution_count": 20,
   "id": "ff136ce5-b5ce-448e-a231-01ca722be35a",
   "metadata": {},
   "outputs": [
    {
     "data": {
      "application/vnd.jupyter.widget-view+json": {
       "model_id": "307e8ccb823a492281edd39b62da93cb",
       "version_major": 2,
       "version_minor": 0
      },
      "text/plain": [
       "Canvas(toolbar=Toolbar(toolitems=[('Home', 'Reset original view', 'home', 'home'), ('Back', 'Back to previous …"
      ]
     },
     "metadata": {},
     "output_type": "display_data"
    }
   ],
   "source": [
    "fig, (ax0, ax1) = plt.subplots(1, 2, figsize=(10, 4))\n",
    "ax0.imshow(covid_cv2)\n",
    "ax0.set_title(\"Original\")\n",
    "ax0.set_axis_off()\n",
    "ax1.imshow(covid_segmented_9)\n",
    "ax1.set_title(\"Segmented k = 9\")\n",
    "ax1.set_axis_off()\n",
    "fig.tight_layout()\n",
    "plt.show()"
   ]
  },
  {
   "cell_type": "markdown",
   "id": "ab12584b-1fc0-4649-8594-4b9f7a3256ab",
   "metadata": {},
   "source": [
    "### Perbedaan"
   ]
  },
  {
   "cell_type": "code",
   "execution_count": 21,
   "id": "96c7ac88-d2d7-4ff5-b789-5e51d2073ff3",
   "metadata": {},
   "outputs": [
    {
     "data": {
      "application/vnd.jupyter.widget-view+json": {
       "model_id": "0bb043c54362498983c4cfc603a4d56b",
       "version_major": 2,
       "version_minor": 0
      },
      "text/plain": [
       "Canvas(toolbar=Toolbar(toolitems=[('Home', 'Reset original view', 'home', 'home'), ('Back', 'Back to previous …"
      ]
     },
     "metadata": {},
     "output_type": "display_data"
    }
   ],
   "source": [
    "fig, (ax0, ax1) = plt.subplots(1, 2, figsize=(10, 4))\n",
    "ax0.imshow(covid_segmented_4)\n",
    "ax0.set_title(\"k = 4\")\n",
    "ax0.set_axis_off()\n",
    "ax1.imshow(covid_segmented_9)\n",
    "ax1.set_title(\"k = 9\")\n",
    "ax1.set_axis_off()\n",
    "fig.tight_layout()\n",
    "plt.show()"
   ]
  },
  {
   "cell_type": "markdown",
   "id": "94fbb3f6-7303-434d-8679-eb5ba9a4062b",
   "metadata": {},
   "source": [
    "Kita bisa lihat perbandingan hasil segmentasi menggunakan k-means diatas. Gambar kiri dengan kernel size 4 menghasilkan gambar yang segmentasi nya terlihat jelas. Sedangkat gambar kanan dengan kernel sebesar 9 menghasilkan segmentasi yang tidak baik, terutama di bagian virus nya. Hal ini di karenakan besar kernel, besar kernel digunakan untuk menentukan ada berapa region atau class yang akan dihasilkan oleh k-means. Kita bisa lihat di gambar kiri ada empat total warna yaitu merah muda, merah tua, putih (silver?), dan abu-abu (?). Sedangkan di gambar kanan dengan kernel ukuran 9 mempunyai banyak warna yang shade nya mirip. Untuk tujuan segmentasi gambar, ukuran kernel yang rendah akan menghasilkan segmentasi yang lebih bagus."
   ]
  },
  {
   "cell_type": "markdown",
   "id": "25ad2d8d-1161-40ab-ba9a-4b38961b9771",
   "metadata": {},
   "source": [
    "## Bird"
   ]
  },
  {
   "cell_type": "code",
   "execution_count": 22,
   "id": "24e39720-6962-4801-9d8f-2ac9054d3411",
   "metadata": {},
   "outputs": [],
   "source": [
    "bird = io.imread(os.path.join(STATIC, \"bird.jpg\"))"
   ]
  },
  {
   "cell_type": "code",
   "execution_count": 23,
   "id": "c5f590d4-e4b5-4713-8f30-6d7c328b81fc",
   "metadata": {},
   "outputs": [],
   "source": [
    "bird_r = bird[:, :, 0]\n",
    "bird_g = bird[:, :, 1]\n",
    "bird_b = bird[:, :, 2]"
   ]
  },
  {
   "cell_type": "code",
   "execution_count": 24,
   "id": "253c8651-0e9e-4195-83bb-d6df5fe21dcd",
   "metadata": {},
   "outputs": [
    {
     "data": {
      "application/vnd.jupyter.widget-view+json": {
       "model_id": "179827b2f6a248c883387dc72e13e8d6",
       "version_major": 2,
       "version_minor": 0
      },
      "text/plain": [
       "Canvas(toolbar=Toolbar(toolitems=[('Home', 'Reset original view', 'home', 'home'), ('Back', 'Back to previous …"
      ]
     },
     "metadata": {},
     "output_type": "display_data"
    }
   ],
   "source": [
    "TITLE = [\"Original\", \"Red\", \"Green\", \"Blue\"]\n",
    "IMAGES = [bird, bird_r, bird_g, bird_b]\n",
    "\n",
    "fig, axs = plt.subplots(2, 2)\n",
    "count = 0\n",
    "for row in axs:\n",
    "    for ax in row:\n",
    "        ax.imshow(IMAGES[count], cmap=\"gray\")\n",
    "        ax.set_title(TITLE[count])\n",
    "        ax.set_axis_off()\n",
    "        count += 1\n",
    "fig.tight_layout()\n",
    "plt.show()"
   ]
  },
  {
   "cell_type": "code",
   "execution_count": 25,
   "id": "999d7822-5691-4bda-acee-2b81db7e3ef5",
   "metadata": {},
   "outputs": [],
   "source": [
    "bird_hsv = color.rgb2hsv(bird)\n",
    "bird_h = bird_hsv[:, :, 0]\n",
    "bird_s = bird_hsv[:, :, 1]\n",
    "bird_v = bird_hsv[:, :, 2]"
   ]
  },
  {
   "cell_type": "code",
   "execution_count": 26,
   "id": "e1e02ccb-0971-4979-af8f-7dcd1e80d27a",
   "metadata": {},
   "outputs": [
    {
     "data": {
      "application/vnd.jupyter.widget-view+json": {
       "model_id": "2adc67f82653402091bb761ce6445ee8",
       "version_major": 2,
       "version_minor": 0
      },
      "text/plain": [
       "Canvas(toolbar=Toolbar(toolitems=[('Home', 'Reset original view', 'home', 'home'), ('Back', 'Back to previous …"
      ]
     },
     "metadata": {},
     "output_type": "display_data"
    }
   ],
   "source": [
    "TITLE = [\"HSV\", \"Hue\", \"Saturation\", \"Value\"]\n",
    "IMAGES = [bird_hsv, bird_h, bird_s, bird_v]\n",
    "\n",
    "fig, axs = plt.subplots(2, 2)\n",
    "count = 0\n",
    "for row in axs:\n",
    "    for ax in row:\n",
    "        ax.imshow(IMAGES[count], cmap=\"gray\")\n",
    "        ax.set_title(TITLE[count])\n",
    "        ax.set_axis_off()\n",
    "        count += 1\n",
    "fig.tight_layout()\n",
    "plt.show()"
   ]
  },
  {
   "cell_type": "code",
   "execution_count": 27,
   "id": "d8400235-280e-4975-b3bb-c64ec7bfbbd3",
   "metadata": {},
   "outputs": [],
   "source": [
    "def stretch_contrast(image):\n",
    "    max_range = max(image.flatten())\n",
    "    min_range = min(image.flatten())\n",
    "    b = int(np.floor(255 / (max_range - min_range)))\n",
    "    return (image - min_range) * b"
   ]
  },
  {
   "cell_type": "markdown",
   "id": "6a442a89-c27b-4eca-bc33-4a2922dbe80b",
   "metadata": {},
   "source": [
    "### RGB Sharpening"
   ]
  },
  {
   "cell_type": "code",
   "execution_count": 28,
   "id": "e763291b-21b6-4b65-9b5e-c59ced550acc",
   "metadata": {},
   "outputs": [],
   "source": [
    "bird_r_sharp = util.img_as_ubyte(filters.unsharp_mask(bird_r, radius=5, amount=2))\n",
    "bird_g_sharp = util.img_as_ubyte(filters.unsharp_mask(bird_g, radius=5, amount=2))\n",
    "bird_b_sharp = util.img_as_ubyte(filters.unsharp_mask(bird_b, radius=5, amount=2))\n",
    "bird_sharp = util.img_as_ubyte(np.zeros(bird.shape))\n",
    "bird_sharp[:, :, 0] = bird_r_sharp\n",
    "bird_sharp[:, :, 1] = bird_g_sharp\n",
    "bird_sharp[:, :, 2] = bird_b_sharp"
   ]
  },
  {
   "cell_type": "code",
   "execution_count": 29,
   "id": "41430cbf-0612-492e-8fc3-c648cdf42980",
   "metadata": {},
   "outputs": [
    {
     "data": {
      "application/vnd.jupyter.widget-view+json": {
       "model_id": "6e2ea5f6ff88419299ee517dad49708c",
       "version_major": 2,
       "version_minor": 0
      },
      "text/plain": [
       "Canvas(toolbar=Toolbar(toolitems=[('Home', 'Reset original view', 'home', 'home'), ('Back', 'Back to previous …"
      ]
     },
     "metadata": {},
     "output_type": "display_data"
    }
   ],
   "source": [
    "TITLE = [\"Sharpened\", \"Red\", \"Green\", \"Blue\"]\n",
    "IMAGES = [bird_sharp, bird_r_sharp, bird_g_sharp, bird_b_sharp]\n",
    "\n",
    "fig, axs = plt.subplots(2, 2)\n",
    "count = 0\n",
    "for row in axs:\n",
    "    for ax in row:\n",
    "        ax.imshow(IMAGES[count], cmap=\"gray\")\n",
    "        ax.set_title(TITLE[count])\n",
    "        ax.set_axis_off()\n",
    "        count += 1\n",
    "fig.tight_layout()\n",
    "plt.show()"
   ]
  },
  {
   "cell_type": "markdown",
   "id": "1134b80a-38c3-4375-9f0a-ac34471cadb7",
   "metadata": {},
   "source": [
    "### RGB Contrast Stretching"
   ]
  },
  {
   "cell_type": "code",
   "execution_count": 30,
   "id": "a2996e19-6a6c-4242-80ea-5eea98322a41",
   "metadata": {},
   "outputs": [],
   "source": [
    "bird_r_stretch = stretch_contrast(bird_r)\n",
    "bird_g_stretch = stretch_contrast(bird_g)\n",
    "bird_b_stretch = stretch_contrast(bird_b)\n",
    "bird_stretch = util.img_as_ubyte(np.zeros(bird.shape))\n",
    "bird_stretch[:, :, 0] = bird_r_stretch\n",
    "bird_stretch[:, :, 1] = bird_g_stretch\n",
    "bird_stretch[:, :, 2] = bird_b_stretch"
   ]
  },
  {
   "cell_type": "code",
   "execution_count": 31,
   "id": "9257705a-6fbc-4ea6-906f-e27ae7cc0e35",
   "metadata": {},
   "outputs": [
    {
     "data": {
      "application/vnd.jupyter.widget-view+json": {
       "model_id": "a29dacf3de944481aeeee3ea0b5c9fd4",
       "version_major": 2,
       "version_minor": 0
      },
      "text/plain": [
       "Canvas(toolbar=Toolbar(toolitems=[('Home', 'Reset original view', 'home', 'home'), ('Back', 'Back to previous …"
      ]
     },
     "metadata": {},
     "output_type": "display_data"
    }
   ],
   "source": [
    "TITLE = [\"Contrast Stretched\", \"Red\", \"Green\", \"Blue\"]\n",
    "IMAGES = [bird_stretch, bird_r_stretch, bird_g_stretch, bird_b_stretch]\n",
    "\n",
    "fig, axs = plt.subplots(2, 2)\n",
    "count = 0\n",
    "for row in axs:\n",
    "    for ax in row:\n",
    "        ax.imshow(IMAGES[count], cmap=\"gray\")\n",
    "        ax.set_title(TITLE[count])\n",
    "        ax.set_axis_off()\n",
    "        count += 1\n",
    "fig.tight_layout()\n",
    "plt.show()"
   ]
  },
  {
   "cell_type": "markdown",
   "id": "146176be-8651-4b08-9867-f2f0928b280c",
   "metadata": {},
   "source": [
    "### HSV Sharpening"
   ]
  },
  {
   "cell_type": "code",
   "execution_count": 32,
   "id": "3411b7b2-d785-4d3f-bdd8-03f3c6af017f",
   "metadata": {},
   "outputs": [],
   "source": [
    "bird_v_sharp = filters.unsharp_mask(bird_v, radius=5, amount=2)\n",
    "bird_hsv_sharp = np.zeros(bird_hsv.shape)\n",
    "bird_hsv_sharp[:, :, 0] = bird_h\n",
    "bird_hsv_sharp[:, :, 1] = bird_s\n",
    "bird_hsv_sharp[:, :, 2] = bird_v_sharp\n",
    "bird_rgb2hsv_sharp = color.hsv2rgb(bird_hsv_sharp)"
   ]
  },
  {
   "cell_type": "code",
   "execution_count": 33,
   "id": "99a4bde0-c940-4794-b56b-1ef0214ba8c6",
   "metadata": {},
   "outputs": [
    {
     "data": {
      "application/vnd.jupyter.widget-view+json": {
       "model_id": "913d98ab2fed433880eaf81319d8c730",
       "version_major": 2,
       "version_minor": 0
      },
      "text/plain": [
       "Canvas(toolbar=Toolbar(toolitems=[('Home', 'Reset original view', 'home', 'home'), ('Back', 'Back to previous …"
      ]
     },
     "metadata": {},
     "output_type": "display_data"
    }
   ],
   "source": [
    "TITLE = [\"HSV\", \"Hue\", \"Saturation\", \"Value\"]\n",
    "IMAGES = [bird_rgb2hsv_sharp, bird_h, bird_s, bird_v_sharp]\n",
    "\n",
    "fig, axs = plt.subplots(2, 2)\n",
    "count = 0\n",
    "for row in axs:\n",
    "    for ax in row:\n",
    "        ax.imshow(IMAGES[count], cmap=\"gray\")\n",
    "        ax.set_title(TITLE[count])\n",
    "        ax.set_axis_off()\n",
    "        count += 1\n",
    "fig.tight_layout()\n",
    "plt.show()"
   ]
  },
  {
   "cell_type": "markdown",
   "id": "8eeae173-efd1-4155-b04e-976172266bf2",
   "metadata": {},
   "source": [
    "### HSV Contrast Stretching"
   ]
  },
  {
   "cell_type": "code",
   "execution_count": 34,
   "id": "a69561d4-12f9-4782-80e4-ea84845b32d3",
   "metadata": {},
   "outputs": [],
   "source": [
    "bird_v_stretch = util.img_as_float(stretch_contrast(util.img_as_ubyte(bird_v)))\n",
    "bird_hsv_stretch = np.zeros(bird_hsv.shape)\n",
    "bird_hsv_stretch[:, :, 0] = bird_h\n",
    "bird_hsv_stretch[:, :, 1] = bird_s\n",
    "bird_hsv_stretch[:, :, 2] = bird_v_stretch\n",
    "bird_rgb2hsv_stretch = util.img_as_ubyte(color.hsv2rgb(bird_hsv_stretch))"
   ]
  },
  {
   "cell_type": "code",
   "execution_count": 35,
   "id": "3310c0c2-ae17-458e-83f0-d5fde185d07a",
   "metadata": {},
   "outputs": [
    {
     "data": {
      "application/vnd.jupyter.widget-view+json": {
       "model_id": "58ac353e9e0e4750be468ac75d6b0775",
       "version_major": 2,
       "version_minor": 0
      },
      "text/plain": [
       "Canvas(toolbar=Toolbar(toolitems=[('Home', 'Reset original view', 'home', 'home'), ('Back', 'Back to previous …"
      ]
     },
     "metadata": {},
     "output_type": "display_data"
    }
   ],
   "source": [
    "TITLE = [\"HSV\", \"Hue\", \"Saturation\", \"Value\"]\n",
    "IMAGES = [bird_rgb2hsv_stretch, bird_h, bird_s, bird_v_stretch]\n",
    "\n",
    "fig, axs = plt.subplots(2, 2)\n",
    "count = 0\n",
    "for row in axs:\n",
    "    for ax in row:\n",
    "        ax.imshow(IMAGES[count], cmap=\"gray\")\n",
    "        ax.set_title(TITLE[count])\n",
    "        ax.set_axis_off()\n",
    "        count += 1\n",
    "fig.tight_layout()\n",
    "plt.show()"
   ]
  },
  {
   "cell_type": "markdown",
   "id": "8f37b3fd-ab04-431c-98c0-7407062cdca4",
   "metadata": {},
   "source": [
    "### Analisa"
   ]
  },
  {
   "cell_type": "code",
   "execution_count": 36,
   "id": "a069169a-07a0-4751-aee2-135a38c62d48",
   "metadata": {},
   "outputs": [],
   "source": [
    "bird_sharp_result_diff = util.compare_images(bird_sharp, bird_rgb2hsv_sharp)\n",
    "bird_sharp_diff = util.compare_images(bird, bird_sharp)\n",
    "bird_rgb2hsv_sharp_diff = util.compare_images(bird, bird_rgb2hsv_sharp)"
   ]
  },
  {
   "cell_type": "code",
   "execution_count": 37,
   "id": "c9422de6-f744-45b2-8801-f88e0194c383",
   "metadata": {},
   "outputs": [
    {
     "data": {
      "application/vnd.jupyter.widget-view+json": {
       "model_id": "0a4891c97a434f4184373baabace1399",
       "version_major": 2,
       "version_minor": 0
      },
      "text/plain": [
       "Canvas(toolbar=Toolbar(toolitems=[('Home', 'Reset original view', 'home', 'home'), ('Back', 'Back to previous …"
      ]
     },
     "metadata": {},
     "output_type": "display_data"
    }
   ],
   "source": [
    "TITLE = [\"Original\", \"RGB Sharp\", \"HSV Sharp\", \"RGB HSV Difference\", \"RGB Difference\", \"HSV Difference\"]\n",
    "IMAGES = [bird, bird_sharp, bird_rgb2hsv_sharp, bird_sharp_result_diff, bird_sharp_diff, bird_rgb2hsv_sharp_diff]\n",
    "\n",
    "fig, axs = plt.subplots(2, 3, dpi=200)\n",
    "count = 0\n",
    "for row in axs:\n",
    "    for ax in row:\n",
    "        ax.imshow(IMAGES[count], cmap=\"gray\")\n",
    "        ax.set_title(TITLE[count])\n",
    "        ax.set_axis_off()\n",
    "        count += 1\n",
    "fig.tight_layout()\n",
    "plt.show()"
   ]
  },
  {
   "cell_type": "code",
   "execution_count": 38,
   "id": "9e4c298a-e108-49aa-9d2f-19a2137f81f5",
   "metadata": {},
   "outputs": [
    {
     "data": {
      "application/vnd.jupyter.widget-view+json": {
       "model_id": "3426986c9fe14f5682cd1c99ff384bb6",
       "version_major": 2,
       "version_minor": 0
      },
      "text/plain": [
       "Canvas(toolbar=Toolbar(toolitems=[('Home', 'Reset original view', 'home', 'home'), ('Back', 'Back to previous …"
      ]
     },
     "metadata": {},
     "output_type": "display_data"
    }
   ],
   "source": [
    "TITLE = [\n",
    "    \"Original R\", \"Original G\", \"Original B\",\n",
    "    \"RGB R\",      \"RGB G\",      \"RGB B\",\n",
    "    \"HSV R\",      \"HSV G\",      \"HSV B\"\n",
    "]\n",
    "HIST = [\n",
    "    bird_r.flatten(),                        bird_g.flatten(),                        bird_b.flatten(),\n",
    "    bird_r_stretch.flatten(),                bird_g_stretch.flatten(),                bird_b_stretch.flatten(),\n",
    "    bird_rgb2hsv_stretch[:, :, 0].flatten(), bird_rgb2hsv_stretch[:, :, 1].flatten(), bird_rgb2hsv_stretch[:, :, 2].flatten()\n",
    "]\n",
    "\n",
    "fig, axs = plt.subplots(3, 3, figsize=(10, 4), dpi=140)\n",
    "count = 0\n",
    "for row in axs:\n",
    "    for ax in row:\n",
    "        ax.hist(HIST[count], 256, range=(0, 255))\n",
    "        ax.set_title(TITLE[count])\n",
    "        count += 1\n",
    "fig.tight_layout()\n",
    "plt.show()"
   ]
  },
  {
   "cell_type": "code",
   "execution_count": 39,
   "id": "7aefa6fd-88d9-4ccc-90ed-3618bd1cbab5",
   "metadata": {},
   "outputs": [
    {
     "name": "stdout",
     "output_type": "stream",
     "text": [
      "Bird Red\n",
      "Min = 0     Max = 255\n",
      "\n",
      "Bird Green\n",
      "Min = 0     Max = 253\n",
      "\n",
      "Bird Blue\n",
      "Min = 0     Max = 255\n",
      "\n",
      "Bird Value\n",
      "Min = 0     Max = 255\n",
      "\n"
     ]
    }
   ],
   "source": [
    "def print_min_max(title, image):\n",
    "    print(f\"{title}\\nMin = {min(image.flatten())}     Max = {max(image.flatten())}\\n\")\n",
    "print_min_max(\"Bird Red\", bird_r)\n",
    "print_min_max(\"Bird Green\", bird_g)\n",
    "print_min_max(\"Bird Blue\", bird_b)\n",
    "print_min_max(\"Bird Value\", util.img_as_ubyte(bird_v))"
   ]
  },
  {
   "cell_type": "markdown",
   "id": "6302e4a6-f9ed-46f2-aaed-b665e5b3b914",
   "metadata": {},
   "source": [
    "#### Sharpening"
   ]
  },
  {
   "cell_type": "markdown",
   "id": "3ca56f50-c8e2-48a4-91ab-97d755b2d07a",
   "metadata": {},
   "source": [
    "Kita bisa lihat hasil sharpening pada kedua color space bekerja dengan baik. Bisa dilihat pada dada burung dan pada kayu diatas burung, edges nya menjadi terlihat jelas dibanding gambar asli. Dilihat dari gambar diff, kita bisa lihat bahwa walaupun kedua channel menghasilkan edges yang bagus, hasil nya tidak sama. Ada sedikit perbedaan. Edges yang dibuat pada channel RGB di outline burung nya berwarna sedikit hijau, sedangkan pada channel HSV, outline burungnya berwarna hitam. Jika dilihat gambar perbedaan antara sharpening pada RGB dan HSV, kita bisa lihat bahwa majority difference nya pada warna hijau dan biru, dengan sedikit warna merah."
   ]
  },
  {
   "cell_type": "markdown",
   "id": "542c6f46-b94a-41c1-b6c7-01678ad3e585",
   "metadata": {},
   "source": [
    "#### Contrast Stretching"
   ]
  },
  {
   "cell_type": "markdown",
   "id": "2ea08634-57ac-4a0e-b2c2-3fa3955a11b4",
   "metadata": {},
   "source": [
    "Gambar burung asli sudah mempunyai contrast yang maksimal (channel green hanya kurang 2 dari maksimal). Sehingga, jika menggunakan contrast stretching, tidak akan mempunyai pengaruh apapun, mau di apply ke channel RGB atau HSV. Jika menggunakan histogram equalization, contrast nya akan bisa \"diperbaiki\" karena hotspot nya di area 0 sampai 50. Sekali lagi, semua ini karena intensitas tertinggi dan terendah untuk semua channel sudah maksimal/minimal sehingga contrast nya tidak berubah."
   ]
  }
 ],
 "metadata": {
  "kernelspec": {
   "display_name": "Python 3 (ipykernel)",
   "language": "python",
   "name": "python3"
  },
  "language_info": {
   "codemirror_mode": {
    "name": "ipython",
    "version": 3
   },
   "file_extension": ".py",
   "mimetype": "text/x-python",
   "name": "python",
   "nbconvert_exporter": "python",
   "pygments_lexer": "ipython3",
   "version": "3.9.6"
  },
  "toc-autonumbering": false,
  "toc-showcode": false,
  "toc-showmarkdowntxt": false
 },
 "nbformat": 4,
 "nbformat_minor": 5
}
