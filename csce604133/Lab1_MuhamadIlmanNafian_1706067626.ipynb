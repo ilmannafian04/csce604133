{
 "cells": [
  {
   "cell_type": "markdown",
   "id": "967b810d-865e-48a9-9ca2-a3e94330a426",
   "metadata": {},
   "source": [
    "# Tugas 1"
   ]
  },
  {
   "cell_type": "markdown",
   "id": "c06134f7-e5e8-439c-82b8-8569c0cebe81",
   "metadata": {},
   "source": [
    "Ganti constant `STATIC` menjadi path ke gambar-gambar yang akan digunakan dan `OUT` menjadi path ke output directory. Contoh jika gambar ada di directory yang sama dengan script ini, maka value nya menjadi `\".\"`. Library yang dibutuhkan untuk menjalankan script ini adalah sebagai berikut: `scikit-image`, `matplotlib`, `numpy`, dan `ipympl`. Cara menjalankan scriptnya sama seperti menjalankan notebook biasa."
   ]
  },
  {
   "cell_type": "code",
   "execution_count": 1,
   "id": "55f293da-dbaf-413f-aa71-30d4d914f728",
   "metadata": {},
   "outputs": [],
   "source": [
    "import os\n",
    "from pathlib import Path\n",
    "\n",
    "SUB = \"lab1\"\n",
    "BASE_DIR = Path(os.path.abspath(\"\")).resolve(strict=True).parent\n",
    "OUT = os.path.join(BASE_DIR, \"out\", SUB)\n",
    "STATIC = os.path.join(BASE_DIR, \"static\", SUB)"
   ]
  },
  {
   "cell_type": "code",
   "execution_count": 2,
   "id": "7a0a56d6-afb2-449b-87cd-41509561d6d3",
   "metadata": {},
   "outputs": [],
   "source": [
    "import matplotlib.pyplot as plt\n",
    "import numpy as np\n",
    "\n",
    "from skimage import color, exposure, filters, io, morphology, util\n",
    "%matplotlib widget"
   ]
  },
  {
   "cell_type": "markdown",
   "id": "dcfb339b-a631-4afc-b6dd-6ba158332c47",
   "metadata": {},
   "source": [
    "## Sunflower"
   ]
  },
  {
   "cell_type": "markdown",
   "id": "accf7b23-b34f-4b3c-9440-aabd70fdaa21",
   "metadata": {},
   "source": [
    "Di soal ini, saya menggunakan module `exposure` dari scikit image library untuk melakukan histogram equalization pada gambar sunflower. Lalu melakukan mapping contrast stretching manual ke gambar sunflower. Menggunakan module `util` dari scikit image dan `pyplot` dari matplotlib untuk menambilpan histogram dan gambar untuk di analisa."
   ]
  },
  {
   "cell_type": "code",
   "execution_count": 3,
   "id": "a75631a3-ab30-4789-89bd-9ca0cba4a1ed",
   "metadata": {},
   "outputs": [],
   "source": [
    "sunflower = io.imread(os.path.join(STATIC, \"sunflower.jpg\"))"
   ]
  },
  {
   "cell_type": "code",
   "execution_count": 4,
   "id": "d6c05b00-658b-4070-9c46-0b7182f19d61",
   "metadata": {},
   "outputs": [
    {
     "data": {
      "application/vnd.jupyter.widget-view+json": {
       "model_id": "09eb994ca79f4d41864f12d3345a14d3",
       "version_major": 2,
       "version_minor": 0
      },
      "text/plain": [
       "Canvas(toolbar=Toolbar(toolitems=[('Home', 'Reset original view', 'home', 'home'), ('Back', 'Back to previous …"
      ]
     },
     "metadata": {},
     "output_type": "display_data"
    }
   ],
   "source": [
    "fig, ax0 = plt.subplots(figsize=(9, 6))\n",
    "ax0.imshow(sunflower, cmap=\"gray\")\n",
    "ax0.set_axis_off()\n",
    "fig.tight_layout()\n",
    "plt.show()"
   ]
  },
  {
   "cell_type": "markdown",
   "id": "ab666963-821b-4eb9-b2ca-d8c2d192c57c",
   "metadata": {},
   "source": [
    "### Histogram"
   ]
  },
  {
   "cell_type": "code",
   "execution_count": 5,
   "id": "22591869-ceed-4bdb-b2f1-0f7f88f7f72b",
   "metadata": {},
   "outputs": [],
   "source": [
    "sunflower_hist = util.img_as_ubyte(sunflower)"
   ]
  },
  {
   "cell_type": "code",
   "execution_count": 6,
   "id": "f52714a2-7e33-4227-89c0-ae1671a52fe1",
   "metadata": {},
   "outputs": [
    {
     "data": {
      "application/vnd.jupyter.widget-view+json": {
       "model_id": "5d77d36fe7be4ebda1ca98bccf5b83fd",
       "version_major": 2,
       "version_minor": 0
      },
      "text/plain": [
       "Canvas(toolbar=Toolbar(toolitems=[('Home', 'Reset original view', 'home', 'home'), ('Back', 'Back to previous …"
      ]
     },
     "metadata": {},
     "output_type": "display_data"
    }
   ],
   "source": [
    "fig, ax0 = plt.subplots(figsize=(10, 4))\n",
    "ax0.hist(sunflower_hist.flatten(), 256, range=(0, 256))\n",
    "ax0.set_title(\"Sunflower Histogram\")\n",
    "plt.show()"
   ]
  },
  {
   "cell_type": "markdown",
   "id": "dc977ecb-23fc-4c85-89bb-56c6893aa919",
   "metadata": {},
   "source": [
    "### Histogram Equalization"
   ]
  },
  {
   "cell_type": "code",
   "execution_count": 7,
   "id": "f61a11dc-7070-4690-b5d1-55ecd076634d",
   "metadata": {},
   "outputs": [],
   "source": [
    "sunflower_histeq = exposure.equalize_hist(sunflower)\n",
    "sunflower_histeq_hist = util.img_as_ubyte(sunflower_histeq)"
   ]
  },
  {
   "cell_type": "code",
   "execution_count": 8,
   "id": "839b5024-b973-4204-ad92-1a4281d8e2d9",
   "metadata": {},
   "outputs": [
    {
     "data": {
      "application/vnd.jupyter.widget-view+json": {
       "model_id": "276b38b1c7a44eb6939cf95d6c15a655",
       "version_major": 2,
       "version_minor": 0
      },
      "text/plain": [
       "Canvas(toolbar=Toolbar(toolitems=[('Home', 'Reset original view', 'home', 'home'), ('Back', 'Back to previous …"
      ]
     },
     "metadata": {},
     "output_type": "display_data"
    }
   ],
   "source": [
    "fig, ax0 = plt.subplots(figsize=(10, 4))\n",
    "ax0.hist(sunflower_histeq_hist.flatten(), 256, range=(0, 256))\n",
    "ax0.set_title(\"Equalized\")\n",
    "plt.show()"
   ]
  },
  {
   "cell_type": "markdown",
   "id": "4d05067c-3733-40ae-bf82-061233a40ef9",
   "metadata": {},
   "source": [
    "### Contrast Stretching"
   ]
  },
  {
   "cell_type": "code",
   "execution_count": 9,
   "id": "00dcecb7-68fb-409f-aded-18f244126791",
   "metadata": {},
   "outputs": [],
   "source": [
    "sunflower_max_range = max(sunflower.flatten())\n",
    "sunflower_min_range = min(sunflower.flatten())\n",
    "b = int(np.floor(255 / (sunflower_max_range - sunflower_min_range)))\n",
    "sunflower_stretch = (sunflower - sunflower_min_range) * b\n",
    "sunflower_stretch_hist = util.img_as_ubyte(sunflower_stretch)"
   ]
  },
  {
   "cell_type": "code",
   "execution_count": 10,
   "id": "8e65ef26-c37b-4d9f-b5e7-2b40b1ed6a00",
   "metadata": {},
   "outputs": [
    {
     "data": {
      "application/vnd.jupyter.widget-view+json": {
       "model_id": "16bf037a649749c9a79427c2b593d37a",
       "version_major": 2,
       "version_minor": 0
      },
      "text/plain": [
       "Canvas(toolbar=Toolbar(toolitems=[('Home', 'Reset original view', 'home', 'home'), ('Back', 'Back to previous …"
      ]
     },
     "metadata": {},
     "output_type": "display_data"
    }
   ],
   "source": [
    "fig, ax0 = plt.subplots(figsize=(10, 4))\n",
    "ax0.hist(sunflower_stretch_hist.flatten(), 256, range=(0, 256))\n",
    "ax0.set_title(\"Contrast Stretched\")\n",
    "plt.show()"
   ]
  },
  {
   "cell_type": "markdown",
   "id": "63be0939-f1c5-4062-bafb-9447e07c5a42",
   "metadata": {},
   "source": [
    "### Analisis"
   ]
  },
  {
   "cell_type": "code",
   "execution_count": 11,
   "id": "e90dc54f-c968-4f68-b086-040184c7cdc2",
   "metadata": {},
   "outputs": [
    {
     "data": {
      "application/vnd.jupyter.widget-view+json": {
       "model_id": "c274c863d13344678613492a4ef5613a",
       "version_major": 2,
       "version_minor": 0
      },
      "text/plain": [
       "Canvas(toolbar=Toolbar(toolitems=[('Home', 'Reset original view', 'home', 'home'), ('Back', 'Back to previous …"
      ]
     },
     "metadata": {},
     "output_type": "display_data"
    }
   ],
   "source": [
    "fig, (ax0, ax1, ax2) = plt.subplots(nrows=3, figsize=(10, 8))\n",
    "ax0.hist(sunflower_hist.flatten(), 256, range=(0, 256))\n",
    "ax0.set_title(\"Original\")\n",
    "ax1.hist(sunflower_histeq_hist.flatten(), 256, range=(0, 256))\n",
    "ax1.set_title(\"Histogram Equalized\")\n",
    "ax2.hist(sunflower_stretch_hist.flatten(), 256, range=(0, 256))\n",
    "ax2.set_title(\"Contrast Stretched\")\n",
    "fig.subplots_adjust(hspace=0.5)\n",
    "plt.show()"
   ]
  },
  {
   "cell_type": "markdown",
   "id": "cc5c883b-b7c8-4d7d-a4ec-dfa0589cf29f",
   "metadata": {},
   "source": [
    "Hal pertama yang gampang dilihat adalah penyebaran contrast nya. Gambar asli memiliki contrast yang lumayan menyebar, lebih banyak di gelap.\n",
    "\n",
    "Setelah di apply `Histogram Equalization`, histogram dari gambar sunflower menjadi lebih sparse. Contrast yang awalnya sudah lumayan menyebar sekarang menjadi lebih menyebar lagi. Kita bisa lihat hotspot contrast di range 50-100 penyebarannya sangat sparse. Area 200-230 juga penyebarannya lumayan besar, tetapi tidak sebesar 50-100.\n",
    "\n",
    "Di lain sisi, histogram gambar yang di apply `Contrast Stretching` tidak jauh beda dengan histogram original. Hasil ini dikarenakan oleh cara contrast stretching bekerja yang sifatnya hanya naive mapping. Kita bisa tarik bahwa di gambar original, ada setidaknya satu pixel dimana tingkat contrast nya sangat rendah dan ada satu pixel lain yang tingkat contrast nya sangat tinggi. Hal tersebut menyebabkan *stretching* yang tidak optimal."
   ]
  },
  {
   "cell_type": "markdown",
   "id": "b94dc850-f565-4593-bcd7-2d50a44d4aea",
   "metadata": {},
   "source": [
    "Kita bisa cek minimum dan maximum contrast level dengan cara berikut."
   ]
  },
  {
   "cell_type": "code",
   "execution_count": 12,
   "id": "bd4a345a-427e-47e5-b91e-cc80b0d12b44",
   "metadata": {},
   "outputs": [
    {
     "name": "stdout",
     "output_type": "stream",
     "text": [
      "Sunflower\n",
      "Max = 255\n",
      "Min = 4\n"
     ]
    }
   ],
   "source": [
    "print(f\"Sunflower\\nMax = {sunflower_max_range}\\nMin = {sunflower_min_range}\")"
   ]
  },
  {
   "cell_type": "markdown",
   "id": "86528979-f3e3-434f-8159-4a11fc5a04b6",
   "metadata": {},
   "source": [
    "Kita bisa lihat dengan value diatas, contrast nya hanya akan di stretch ke bawah (rendah) sebanyak 4 value yang menghasilkan gambar yang hampir identikal dengan yang asli."
   ]
  },
  {
   "cell_type": "code",
   "execution_count": 13,
   "id": "6b69110b-aaf0-4efe-aa7e-24b95c07f6d1",
   "metadata": {},
   "outputs": [
    {
     "data": {
      "application/vnd.jupyter.widget-view+json": {
       "model_id": "7d6dfd7a80634afaa7ed4e592baca7ab",
       "version_major": 2,
       "version_minor": 0
      },
      "text/plain": [
       "Canvas(toolbar=Toolbar(toolitems=[('Home', 'Reset original view', 'home', 'home'), ('Back', 'Back to previous …"
      ]
     },
     "metadata": {},
     "output_type": "display_data"
    }
   ],
   "source": [
    "fig, (ax0, ax1, ax2) = plt.subplots(1, 3, figsize=(10, 2), dpi=120)\n",
    "ax0.imshow(sunflower, cmap=\"gray\")\n",
    "ax0.set_title(\"Original\")\n",
    "ax0.set_axis_off()\n",
    "ax1.imshow(sunflower_histeq, cmap=\"gray\")\n",
    "ax1.set_title(\"Histogram Equalized\")\n",
    "ax1.set_axis_off()\n",
    "ax2.imshow(sunflower_stretch, cmap=\"gray\")\n",
    "ax2.set_title(\"Contrast Stretched\")\n",
    "ax2.set_axis_off()\n",
    "fig.tight_layout()\n",
    "plt.show()"
   ]
  },
  {
   "cell_type": "markdown",
   "id": "513297f5-8ca8-4edb-87b9-6c791cd9a925",
   "metadata": {},
   "source": [
    "## Iris"
   ]
  },
  {
   "cell_type": "markdown",
   "id": "0baf6cf4-022a-471e-8897-a67c58d4ec7a",
   "metadata": {},
   "source": [
    "Di soal ini, saya menggunakan module `filters` dari scikit image untuk mendapatkan horizontal dan vertical edges dari gambar iris dengan algoritma sobel dan prewitt. Lalu kedua gambar horizontal dan vertical di gabung untuk menampilkan edges keseluruhan dengan bantuan library `numpy` untuk \"menambahkan\" kedua gambar tersebut."
   ]
  },
  {
   "cell_type": "code",
   "execution_count": 14,
   "id": "09f04b76-2b91-4b8a-8298-a8f315b2c05c",
   "metadata": {},
   "outputs": [],
   "source": [
    "iris = io.imread(os.path.join(STATIC, \"iris.jpg\"))\n",
    "iris_gray = color.rgb2gray(iris)"
   ]
  },
  {
   "cell_type": "code",
   "execution_count": 15,
   "id": "70539660-96e9-46d7-8b35-4293aef4d0f6",
   "metadata": {},
   "outputs": [
    {
     "data": {
      "application/vnd.jupyter.widget-view+json": {
       "model_id": "51928a9edbf04eb29f54e27853323410",
       "version_major": 2,
       "version_minor": 0
      },
      "text/plain": [
       "Canvas(toolbar=Toolbar(toolitems=[('Home', 'Reset original view', 'home', 'home'), ('Back', 'Back to previous …"
      ]
     },
     "metadata": {},
     "output_type": "display_data"
    }
   ],
   "source": [
    "fig, ax0 = plt.subplots()\n",
    "ax0.imshow(iris, cmap=\"gray\")\n",
    "ax0.set_axis_off()\n",
    "fig.tight_layout()\n",
    "plt.show()"
   ]
  },
  {
   "cell_type": "markdown",
   "id": "4cabbe1b-4a3a-44b3-a22b-7e241e97440a",
   "metadata": {},
   "source": [
    "### Horizontal Edge"
   ]
  },
  {
   "cell_type": "code",
   "execution_count": 16,
   "id": "9623119e-ecd5-44a8-8800-865c2695257b",
   "metadata": {},
   "outputs": [],
   "source": [
    "iris_sobel_h = util.img_as_ubyte(filters.sobel_h(iris_gray))\n",
    "iris_prewitt_h = util.img_as_ubyte(filters.prewitt_h(iris_gray))"
   ]
  },
  {
   "cell_type": "code",
   "execution_count": 17,
   "id": "34466485-71e1-4ec3-8894-ee60f638935a",
   "metadata": {},
   "outputs": [
    {
     "data": {
      "application/vnd.jupyter.widget-view+json": {
       "model_id": "1e43c3ce5e274223a048598b12c194f6",
       "version_major": 2,
       "version_minor": 0
      },
      "text/plain": [
       "Canvas(toolbar=Toolbar(toolitems=[('Home', 'Reset original view', 'home', 'home'), ('Back', 'Back to previous …"
      ]
     },
     "metadata": {},
     "output_type": "display_data"
    }
   ],
   "source": [
    "fig, (ax0, ax1, ax2) = plt.subplots(1, 3, figsize=(11, 5))\n",
    "ax0.imshow(iris_gray, cmap=\"gray\")\n",
    "ax0.set_title(\"Original\")\n",
    "ax0.set_axis_off()\n",
    "ax1.imshow(iris_sobel_h, cmap=\"gray\")\n",
    "ax1.set_title(\"Sobell\")\n",
    "ax1.set_axis_off()\n",
    "ax2.imshow(iris_prewitt_h, cmap=\"gray\")\n",
    "ax2.set_title(\"Prewitt\")\n",
    "ax2.set_axis_off()\n",
    "fig.tight_layout()\n",
    "plt.show()"
   ]
  },
  {
   "cell_type": "markdown",
   "id": "cc2aadbc-5d10-4328-8639-9fa9dc5b240f",
   "metadata": {},
   "source": [
    "### Vertical Edge"
   ]
  },
  {
   "cell_type": "code",
   "execution_count": 18,
   "id": "9d6c454e-1b52-41b8-b536-69d97db50ad7",
   "metadata": {},
   "outputs": [],
   "source": [
    "iris_sobel_v = util.img_as_ubyte(filters.sobel_v(iris_gray))\n",
    "iris_prewitt_v = util.img_as_ubyte(filters.prewitt_v(iris_gray))"
   ]
  },
  {
   "cell_type": "code",
   "execution_count": 19,
   "id": "eca88d06-6ef1-4c5d-8d9e-c80ece79ef23",
   "metadata": {},
   "outputs": [
    {
     "data": {
      "application/vnd.jupyter.widget-view+json": {
       "model_id": "d210ff7b6472450e983165756b615b6a",
       "version_major": 2,
       "version_minor": 0
      },
      "text/plain": [
       "Canvas(toolbar=Toolbar(toolitems=[('Home', 'Reset original view', 'home', 'home'), ('Back', 'Back to previous …"
      ]
     },
     "metadata": {},
     "output_type": "display_data"
    }
   ],
   "source": [
    "fig, (ax0, ax1, ax2) = plt.subplots(1, 3, figsize=(11, 5))\n",
    "ax0.imshow(iris_gray, cmap=\"gray\")\n",
    "ax0.set_title(\"Original\")\n",
    "ax0.set_axis_off()\n",
    "ax1.imshow(iris_sobel_v, cmap=\"gray\")\n",
    "ax1.set_title(\"Sobell\")\n",
    "ax1.set_axis_off()\n",
    "ax2.imshow(iris_prewitt_v, cmap=\"gray\")\n",
    "ax2.set_title(\"Prewitt\")\n",
    "ax2.set_axis_off()\n",
    "fig.tight_layout()\n",
    "plt.show()"
   ]
  },
  {
   "cell_type": "markdown",
   "id": "d65bbeeb-7175-4f2e-934d-fe9c870eaa8c",
   "metadata": {},
   "source": [
    "### Keseluruhan"
   ]
  },
  {
   "cell_type": "code",
   "execution_count": 20,
   "id": "744daffe-9054-4ea4-8ab4-a4d4cbe74d96",
   "metadata": {},
   "outputs": [],
   "source": [
    "iris_sobel = np.add(iris_sobel_v, iris_sobel_h, dtype=\"int16\")\n",
    "iris_prewitt = np.add(iris_prewitt_v, iris_prewitt_h, dtype=\"int16\")"
   ]
  },
  {
   "cell_type": "code",
   "execution_count": 21,
   "id": "c126a3e6-f058-4b34-b872-fcfdf7fdb522",
   "metadata": {},
   "outputs": [
    {
     "data": {
      "application/vnd.jupyter.widget-view+json": {
       "model_id": "f7a559c1d6cf4a32933540ab8b43c323",
       "version_major": 2,
       "version_minor": 0
      },
      "text/plain": [
       "Canvas(toolbar=Toolbar(toolitems=[('Home', 'Reset original view', 'home', 'home'), ('Back', 'Back to previous …"
      ]
     },
     "metadata": {},
     "output_type": "display_data"
    }
   ],
   "source": [
    "fig, (ax0, ax1, ax2) = plt.subplots(1, 3, figsize=(11, 5))\n",
    "ax0.imshow(iris_gray, cmap=\"gray\")\n",
    "ax0.set_title(\"Original\")\n",
    "ax0.set_axis_off()\n",
    "ax1.imshow(iris_sobel, cmap=\"gray\")\n",
    "ax1.set_title(\"Sobell\")\n",
    "ax1.set_axis_off()\n",
    "ax2.imshow(iris_prewitt, cmap=\"gray\")\n",
    "ax2.set_title(\"Prewitt\")\n",
    "ax2.set_axis_off()\n",
    "fig.tight_layout()\n",
    "plt.show()"
   ]
  },
  {
   "cell_type": "markdown",
   "id": "3780df96-6046-4da6-a616-cc58b3743434",
   "metadata": {},
   "source": [
    "## Starfish"
   ]
  },
  {
   "cell_type": "markdown",
   "id": "18e7892e-481a-4b28-8c3c-a22e43aa71e5",
   "metadata": {},
   "source": [
    "Di soal ini, saya menggunakan module `filters` dan `morpholohy` untuk melakukan median dan median smoothing ke gambar starfish untuk mengilangkan noise. Hasil dari kedua algoritma tersebut dianalisa untuk dilihat performa nya."
   ]
  },
  {
   "cell_type": "code",
   "execution_count": 22,
   "id": "86399df2-c4a2-4b4d-9bab-5a7426208f3d",
   "metadata": {},
   "outputs": [],
   "source": [
    "starfish = io.imread(os.path.join(STATIC, \"starfish.png\"))"
   ]
  },
  {
   "cell_type": "code",
   "execution_count": 23,
   "id": "a0c5aa0a-bf37-4d36-92a0-b3ddc0a7a971",
   "metadata": {},
   "outputs": [
    {
     "data": {
      "application/vnd.jupyter.widget-view+json": {
       "model_id": "ac4393e0fa4448e1a7db1f6f7d4b7ecb",
       "version_major": 2,
       "version_minor": 0
      },
      "text/plain": [
       "Canvas(toolbar=Toolbar(toolitems=[('Home', 'Reset original view', 'home', 'home'), ('Back', 'Back to previous …"
      ]
     },
     "metadata": {},
     "output_type": "display_data"
    }
   ],
   "source": [
    "fig, ax0 = plt.subplots()\n",
    "ax0.imshow(starfish, cmap=\"gray\")\n",
    "ax0.set_axis_off()\n",
    "fig.tight_layout()\n",
    "plt.show()"
   ]
  },
  {
   "cell_type": "markdown",
   "id": "a11b3985-8081-42a1-a12c-20c9e0917cd0",
   "metadata": {},
   "source": [
    "### Median Filter"
   ]
  },
  {
   "cell_type": "code",
   "execution_count": 24,
   "id": "bec408d5-3e46-478d-a0dc-4934cf88efdd",
   "metadata": {},
   "outputs": [],
   "source": [
    "starfish_med = filters.rank.median(starfish, selem=morphology.square(9))"
   ]
  },
  {
   "cell_type": "code",
   "execution_count": 25,
   "id": "80a3eef3-b4d6-489c-8112-9aeeb3fd7946",
   "metadata": {},
   "outputs": [
    {
     "data": {
      "application/vnd.jupyter.widget-view+json": {
       "model_id": "8498ef688b4445409f2372c843982125",
       "version_major": 2,
       "version_minor": 0
      },
      "text/plain": [
       "Canvas(toolbar=Toolbar(toolitems=[('Home', 'Reset original view', 'home', 'home'), ('Back', 'Back to previous …"
      ]
     },
     "metadata": {},
     "output_type": "display_data"
    }
   ],
   "source": [
    "fig, (ax0, ax1) = plt.subplots(1, 2, figsize=(10, 4))\n",
    "ax0.imshow(starfish, cmap=\"gray\")\n",
    "ax0.set_title(\"Original\")\n",
    "ax0.set_axis_off()\n",
    "ax1.imshow(starfish_med, cmap=\"gray\")\n",
    "ax1.set_title(\"Median Filtered\")\n",
    "ax1.set_axis_off()\n",
    "fig.tight_layout()\n",
    "plt.show()"
   ]
  },
  {
   "cell_type": "markdown",
   "id": "7bbf5055-62d7-4632-bc40-f4a287b4f89a",
   "metadata": {},
   "source": [
    "### Mean Filter"
   ]
  },
  {
   "cell_type": "code",
   "execution_count": 26,
   "id": "33b37263-804a-4ffc-933d-bd3cae4bbbc1",
   "metadata": {},
   "outputs": [],
   "source": [
    "starfish_mean = filters.rank.mean(starfish, selem=morphology.square(9))"
   ]
  },
  {
   "cell_type": "code",
   "execution_count": 27,
   "id": "68ce082c-839a-4e7b-90a3-37324cb54712",
   "metadata": {},
   "outputs": [
    {
     "data": {
      "application/vnd.jupyter.widget-view+json": {
       "model_id": "aa5fe98ccdf14cd295bb1c2b0de7886b",
       "version_major": 2,
       "version_minor": 0
      },
      "text/plain": [
       "Canvas(toolbar=Toolbar(toolitems=[('Home', 'Reset original view', 'home', 'home'), ('Back', 'Back to previous …"
      ]
     },
     "metadata": {},
     "output_type": "display_data"
    }
   ],
   "source": [
    "fig, (ax0, ax1) = plt.subplots(1, 2, figsize=(10, 4))\n",
    "ax0.imshow(starfish, cmap=\"gray\")\n",
    "ax0.set_title(\"Original\")\n",
    "ax0.set_axis_off()\n",
    "ax1.imshow(starfish_mean, cmap=\"gray\")\n",
    "ax1.set_title(\"Mean Filtered\")\n",
    "ax1.set_axis_off()\n",
    "fig.tight_layout()\n",
    "plt.show()"
   ]
  },
  {
   "cell_type": "markdown",
   "id": "d4e93c21-558c-4149-aebf-9f12e2dbe809",
   "metadata": {},
   "source": [
    "### Analisis"
   ]
  },
  {
   "cell_type": "code",
   "execution_count": 28,
   "id": "c36357ff-23c5-4cdb-ba24-9b83fb43907a",
   "metadata": {},
   "outputs": [
    {
     "data": {
      "application/vnd.jupyter.widget-view+json": {
       "model_id": "cf9bf1c90a4d40fbba5acef77cf484a6",
       "version_major": 2,
       "version_minor": 0
      },
      "text/plain": [
       "Canvas(toolbar=Toolbar(toolitems=[('Home', 'Reset original view', 'home', 'home'), ('Back', 'Back to previous …"
      ]
     },
     "metadata": {},
     "output_type": "display_data"
    }
   ],
   "source": [
    "fig, (ax0, ax1) = plt.subplots(1, 2, figsize=(10, 4))\n",
    "ax0.imshow(starfish_med, cmap=\"gray\")\n",
    "ax0.set_title(\"Median Filtered\")\n",
    "ax0.set_axis_off()\n",
    "ax1.imshow(starfish_mean, cmap=\"gray\")\n",
    "ax1.set_title(\"Mean Filtered\")\n",
    "ax1.set_axis_off()\n",
    "fig.tight_layout()\n",
    "plt.show()"
   ]
  },
  {
   "cell_type": "markdown",
   "id": "c8bf3f25-9373-4d4d-a9a6-8ed7aa23a998",
   "metadata": {},
   "source": [
    "Dilihat kedua gambar diatas sekilas, jelas bahwa median filter menghasilkan gambar yang lebih jelas dibandingkan mean filter. Edges yang dihasilkan mean filter terlihat blurry, sedangkan median filter menghasilkan edges yang lebih jelas.\n",
    "\n",
    "Hal hal ini dikarenakan cara mean filter bekerja, dimana dia akan menghitung average value dari neighboring pixels. Karena sifat dari noise yang di apply adalah salt and pepper dimana banyak pixel yang mempunyai intensitas 0 atau 255 (maksimal), hasil dari average nya akan skewed dan menurunkan contrast nya sehingga edges nya jadi tidak jelas.\n",
    "\n",
    "Dilain sisi, median filter mengambil nilai tengah (setelah di urutkan berdasarkan intensitas) dari neighboring pixels. Karena noise nya selalu 0 atau 255, noise tidak akan pernah di ambil atau mempengaruhi hasil dari smoothing nya."
   ]
  }
 ],
 "metadata": {
  "kernelspec": {
   "display_name": "Python 3 (ipykernel)",
   "language": "python",
   "name": "python3"
  },
  "language_info": {
   "codemirror_mode": {
    "name": "ipython",
    "version": 3
   },
   "file_extension": ".py",
   "mimetype": "text/x-python",
   "name": "python",
   "nbconvert_exporter": "python",
   "pygments_lexer": "ipython3",
   "version": "3.9.6"
  }
 },
 "nbformat": 4,
 "nbformat_minor": 5
}
